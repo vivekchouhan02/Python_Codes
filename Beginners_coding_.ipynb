{
  "nbformat": 4,
  "nbformat_minor": 0,
  "metadata": {
    "colab": {
      "name": "Beginners-coding .ipynb",
      "provenance": [],
      "collapsed_sections": [],
      "authorship_tag": "ABX9TyNb6MCCgFocZJ4oLjdYXJBN",
      "include_colab_link": true
    },
    "kernelspec": {
      "name": "python3",
      "display_name": "Python 3"
    },
    "language_info": {
      "name": "python"
    }
  },
  "cells": [
    {
      "cell_type": "markdown",
      "metadata": {
        "id": "view-in-github",
        "colab_type": "text"
      },
      "source": [
        "<a href=\"https://colab.research.google.com/github/vivekchouhan02/Python_Codes/blob/master/Beginners_coding_.ipynb\" target=\"_parent\"><img src=\"https://colab.research.google.com/assets/colab-badge.svg\" alt=\"Open In Colab\"/></a>"
      ]
    },
    {
      "cell_type": "markdown",
      "metadata": {
        "id": "1qyK_H6oI19l"
      },
      "source": [
        "# Prime Number"
      ]
    },
    {
      "cell_type": "code",
      "metadata": {
        "colab": {
          "base_uri": "https://localhost:8080/"
        },
        "id": "Oi2k1ZePhgpA",
        "outputId": "616ab00e-123e-4cfd-fdbb-e0c989ec30be"
      },
      "source": [
        "num = 17\n",
        "for i in range(2,num):\n",
        "  if num % 2 == 0:\n",
        "    print(\"Not Prime\")\n",
        "    break\n",
        "else :\n",
        "  print(\"Prime\")\n"
      ],
      "execution_count": 4,
      "outputs": [
        {
          "output_type": "stream",
          "name": "stdout",
          "text": [
            "Prime\n"
          ]
        }
      ]
    },
    {
      "cell_type": "markdown",
      "metadata": {
        "id": "G8MdPs6dI0ZW"
      },
      "source": [
        "# Array"
      ]
    },
    {
      "cell_type": "code",
      "metadata": {
        "colab": {
          "base_uri": "https://localhost:8080/"
        },
        "id": "t_-y-GWoIzoY",
        "outputId": "0da700aa-e609-445a-cfec-79fd7cdd7ab6"
      },
      "source": [
        "import array as arr\n",
        "vals = arr.array(\"i\", [2,5,3,9,4,1])\n",
        "\n",
        "newArray=arr.array(vals.typecode, (a*a for a in vals))\n",
        "\n",
        "for j in range (len(newArray)):\n",
        "  print(newArray[j])\n",
        "\n",
        "# the same can be done using while loop\n"
      ],
      "execution_count": 29,
      "outputs": [
        {
          "output_type": "stream",
          "name": "stdout",
          "text": [
            "4\n",
            "25\n",
            "9\n",
            "81\n",
            "16\n",
            "1\n"
          ]
        }
      ]
    },
    {
      "cell_type": "code",
      "metadata": {
        "colab": {
          "base_uri": "https://localhost:8080/"
        },
        "id": "KpPJa3I0SV2r",
        "outputId": "22785983-5117-4152-9082-0a11f74ccb68"
      },
      "source": [
        "# the same can be done using while loop\n",
        "import array as arr\n",
        "vals = arr.array(\"i\", [2,5,3,9,4,1])\n",
        "\n",
        "newArray=arr.array(vals.typecode, (a*a for a in vals))\n",
        "\n",
        "j=0\n",
        "while j<len(newArray):\n",
        "  print(newArray[j])\n",
        "  j+=1\n",
        "\n"
      ],
      "execution_count": 31,
      "outputs": [
        {
          "output_type": "stream",
          "name": "stdout",
          "text": [
            "4\n",
            "25\n",
            "9\n",
            "81\n",
            "16\n",
            "1\n"
          ]
        }
      ]
    },
    {
      "cell_type": "code",
      "metadata": {
        "colab": {
          "base_uri": "https://localhost:8080/"
        },
        "id": "hphbUK7eSR7H",
        "outputId": "0da700aa-e609-445a-cfec-79fd7cdd7ab6"
      },
      "source": [
        "import array as arr\n",
        "vals = arr.array(\"i\", [2,5,3,9,4,1])\n",
        "\n",
        "newArray=arr.array(vals.typecode, (a*a for a in vals))\n",
        "\n",
        "for j in range (len(newArray)):\n",
        "  print(newArray[j])\n",
        "\n",
        "# the same can be done using while loop\n"
      ],
      "execution_count": null,
      "outputs": [
        {
          "output_type": "stream",
          "name": "stdout",
          "text": [
            "4\n",
            "25\n",
            "9\n",
            "81\n",
            "16\n",
            "1\n"
          ]
        }
      ]
    },
    {
      "cell_type": "code",
      "metadata": {
        "id": "0A552EnpPx6Z"
      },
      "source": [
        ""
      ],
      "execution_count": null,
      "outputs": []
    },
    {
      "cell_type": "code",
      "metadata": {
        "colab": {
          "base_uri": "https://localhost:8080/"
        },
        "id": "wx_1CGocPygz",
        "outputId": "d1d4fcfb-a4b8-46e8-8e12-ab11f7eae9d3"
      },
      "source": [
        "import array as arr\n",
        "vals = arr.array(\"u\", ['a', 'e', 'g'])\n",
        "\n",
        "for j in range (len(vals)):\n",
        "  print(vals[j])"
      ],
      "execution_count": 24,
      "outputs": [
        {
          "output_type": "stream",
          "name": "stdout",
          "text": [
            "a\n",
            "e\n",
            "g\n"
          ]
        }
      ]
    }
  ]
}